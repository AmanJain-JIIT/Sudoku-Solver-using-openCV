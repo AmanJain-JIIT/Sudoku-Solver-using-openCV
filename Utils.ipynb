{
 "cells": [
  {
   "cell_type": "code",
   "execution_count": 62,
   "id": "16dc8c65",
   "metadata": {},
   "outputs": [],
   "source": [
    "import cv2\n",
    "import numpy as np\n",
    "import keras\n",
    "from keras.models import load_model\n",
    "from PIL import Image, ImageTk\n",
    "import matplotlib.pyplot as plt\n",
    "from tkinter import *\n",
    "from tkinter import filedialog"
   ]
  },
  {
   "cell_type": "code",
   "execution_count": 63,
   "id": "c69c0eee",
   "metadata": {},
   "outputs": [],
   "source": [
    "def read_img(filepath):\n",
    "    img = cv2.imread(filepath)\n",
    "    return img"
   ]
  },
  {
   "cell_type": "code",
   "execution_count": 64,
   "id": "828d3d32",
   "metadata": {},
   "outputs": [],
   "source": [
    "def preprocess(image):\n",
    "    gray = cv2.cvtColor(image, cv2.COLOR_BGR2GRAY) \n",
    "    blur = cv2.GaussianBlur(gray, (3,3),1)\n",
    "    threshold_img = cv2.adaptiveThreshold(blur,255,1,1,11,2)\n",
    "    return threshold_img"
   ]
  },
  {
   "cell_type": "code",
   "execution_count": 65,
   "id": "328f5c5c",
   "metadata": {},
   "outputs": [],
   "source": [
    "def get_contours(sudoku):\n",
    "    contour_1 = sudoku.copy()\n",
    "    threshold = preprocess(sudoku)\n",
    "    contour, hierarchy = cv2.findContours(threshold,cv2.RETR_EXTERNAL,cv2.CHAIN_APPROX_SIMPLE)\n",
    "    cv2.drawContours(contour_1, contour,-1,(0, 255, 0),3)\n",
    "    plt.imshow(contour_1)\n",
    "    return contour"
   ]
  },
  {
   "cell_type": "code",
   "execution_count": 66,
   "id": "6e2e3fbd",
   "metadata": {},
   "outputs": [],
   "source": [
    "def biggest_contour(contour):\n",
    "    global biggest\n",
    "    biggest = np.array([])\n",
    "    max_area = 0\n",
    "    for i in contour:\n",
    "        area = cv2.contourArea(i)\n",
    "        if area >50:\n",
    "            peri = cv2.arcLength(i, True)\n",
    "            approx = cv2.approxPolyDP(i , 0.02* peri, True)\n",
    "            if area > max_area and len(approx) ==4:\n",
    "                biggest = approx\n",
    "                max_area = area\n",
    "    return biggest ,max_area"
   ]
  },
  {
   "cell_type": "code",
   "execution_count": 67,
   "id": "cb2f4db4",
   "metadata": {},
   "outputs": [],
   "source": [
    "def reframe(points):\n",
    "    points = points.reshape((4, 2))\n",
    "    points_new = np.zeros((4,1,2),dtype = np.int32)\n",
    "    add = points.sum(1)\n",
    "    points_new[0] = points[np.argmin(add)]\n",
    "    points_new[3] = points[np.argmax(add)]\n",
    "    diff = np.diff(points, axis =1)\n",
    "    points_new[1] = points[np.argmin(diff)]\n",
    "    points_new[2] = points[np.argmax(diff)]\n",
    "    return points_new"
   ]
  },
  {
   "cell_type": "code",
   "execution_count": 68,
   "id": "34305461",
   "metadata": {},
   "outputs": [],
   "source": [
    "def draw_biggest(sudoku):\n",
    "    global biggest\n",
    "    contour_2 = sudoku.copy()\n",
    "    cv2.drawContours(contour_2, biggest,-1,(255, 0, 0),15)"
   ]
  },
  {
   "cell_type": "code",
   "execution_count": 69,
   "id": "2f23661f",
   "metadata": {},
   "outputs": [],
   "source": [
    "def wrap(biggest, sudoku):\n",
    "    pts1 = np.float32(biggest)\n",
    "    pts2 = np.float32([[0,0],[450,0],[0,450],[450,450]])\n",
    "    matrix = cv2.getPerspectiveTransform(pts1,pts2)\n",
    "    imagewrap = cv2.warpPerspective(sudoku,matrix,(450,450))\n",
    "    imagewrap =cv2.cvtColor(imagewrap, cv2.COLOR_BGR2GRAY)\n",
    "    return imagewrap"
   ]
  },
  {
   "cell_type": "code",
   "execution_count": 70,
   "id": "8b4dab6e",
   "metadata": {},
   "outputs": [],
   "source": [
    "def splitcells(img):\n",
    "    rows = np.vsplit(img,9)\n",
    "    boxes = []\n",
    "    for r in rows:\n",
    "        cols = np.hsplit(r,9)\n",
    "        for box in cols:\n",
    "            box = cv2.resize(box, (28,28))\n",
    "            boxes.append(box)\n",
    "    return boxes"
   ]
  },
  {
   "cell_type": "code",
   "execution_count": 71,
   "id": "e52ceb5b",
   "metadata": {},
   "outputs": [],
   "source": [
    "def prepare(img):\n",
    "    img = np.float32(img)\n",
    "    img = np.reshape(img, (1,28,28,1))\n",
    "    img = img/255.0\n",
    "    return img"
   ]
  },
  {
   "cell_type": "code",
   "execution_count": 72,
   "id": "27cae672",
   "metadata": {},
   "outputs": [],
   "source": [
    "def pre_process(image):\n",
    "    blur = cv2.GaussianBlur(image, (3,3),0)\n",
    "    threshold_img = cv2.adaptiveThreshold(blur,255,1,1,11,15)\n",
    "    return threshold_img"
   ]
  },
  {
   "cell_type": "code",
   "execution_count": 73,
   "id": "568db3c7",
   "metadata": {},
   "outputs": [],
   "source": [
    "def check_blank(img):\n",
    "    val = img[9][9]\n",
    "    for i in range(6, 22):\n",
    "        for j in range(6, 22):\n",
    "            if img[i][j]!=val:\n",
    "                return False\n",
    "    return True"
   ]
  },
  {
   "cell_type": "code",
   "execution_count": 74,
   "id": "9df8f16f",
   "metadata": {},
   "outputs": [],
   "source": [
    "def get_matrix(sudoku_cell):\n",
    "    model = load_model(\"Models/DigitClassifier.h5\")\n",
    "    M = []\n",
    "    for img in sudoku_cell:\n",
    "        img = pre_process(img)\n",
    "        I = prepare(img)\n",
    "        if check_blank(img):\n",
    "            M.append(0)\n",
    "        else:\n",
    "            prediction = np.argmax(model.predict(I)[0])\n",
    "            M.append(prediction)\n",
    "    Sudoku_Matrix = []\n",
    "    rownumber = -1\n",
    "    for i in range(9):\n",
    "        L = []\n",
    "        rownumber+=1\n",
    "        for j in range(9):\n",
    "            L.append(M[j+rownumber*(9)])\n",
    "        Sudoku_Matrix.append(L)\n",
    "    return Sudoku_Matrix"
   ]
  },
  {
   "cell_type": "code",
   "execution_count": 75,
   "id": "e58e1136",
   "metadata": {},
   "outputs": [],
   "source": [
    "def process(filepath):\n",
    "    img = read_img(filepath)\n",
    "    contour = get_contours(img)\n",
    "    biggest ,max_area = biggest_contour(contour)\n",
    "    if biggest.size!=0:\n",
    "        biggest = reframe(biggest)\n",
    "    draw_biggest(img)\n",
    "    sudoku = wrap(biggest,img)\n",
    "    plt.imshow(sudoku)\n",
    "    sudoku_cells = splitcells(sudoku)\n",
    "    sudoku_matrix = get_matrix(sudoku_cells)\n",
    "    sudoku = cv2.cvtColor(sudoku, cv2.COLOR_GRAY2RGB)\n",
    "    return sudoku, sudoku_matrix"
   ]
  },
  {
   "cell_type": "code",
   "execution_count": 84,
   "id": "453f0ad4",
   "metadata": {},
   "outputs": [],
   "source": [
    "def display_solution(img, numbers, color=(0, 255, 0)):\n",
    "    W = int(img.shape[1]/9)\n",
    "    H = int(img.shape[0]/9)\n",
    "    for x in range(0, 9):\n",
    "        for y in range(0, 9):\n",
    "            if numbers[x][y]!=0:\n",
    "                cv2.putText(img, str(numbers[x][y]), (y*W+10, (x+1)*H-10), cv2.FONT_HERSHEY_COMPLEX_SMALL, 2, color, 2, cv2.LINE_AA)\n",
    "    return img"
   ]
  },
  {
   "cell_type": "code",
   "execution_count": null,
   "id": "01cc6cef",
   "metadata": {},
   "outputs": [],
   "source": []
  },
  {
   "cell_type": "code",
   "execution_count": null,
   "id": "e36a0cb1",
   "metadata": {},
   "outputs": [],
   "source": []
  },
  {
   "cell_type": "code",
   "execution_count": null,
   "id": "f565dd4b",
   "metadata": {},
   "outputs": [],
   "source": []
  },
  {
   "cell_type": "code",
   "execution_count": null,
   "id": "5d2b4ddc",
   "metadata": {},
   "outputs": [],
   "source": []
  },
  {
   "cell_type": "code",
   "execution_count": null,
   "id": "d20c87e1",
   "metadata": {},
   "outputs": [],
   "source": []
  },
  {
   "cell_type": "code",
   "execution_count": null,
   "id": "89213e43",
   "metadata": {},
   "outputs": [],
   "source": []
  }
 ],
 "metadata": {
  "kernelspec": {
   "display_name": "Python 3 (ipykernel)",
   "language": "python",
   "name": "python3"
  },
  "language_info": {
   "codemirror_mode": {
    "name": "ipython",
    "version": 3
   },
   "file_extension": ".py",
   "mimetype": "text/x-python",
   "name": "python",
   "nbconvert_exporter": "python",
   "pygments_lexer": "ipython3",
   "version": "3.9.15"
  }
 },
 "nbformat": 4,
 "nbformat_minor": 5
}
